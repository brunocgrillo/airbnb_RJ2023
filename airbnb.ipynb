{
 "cells": [
  {
   "cell_type": "markdown",
   "metadata": {
    "id": "_KEXRHBWOFO3"
   },
   "source": [
    "#***Importing libraries and dataframe***"
   ]
  },
  {
   "cell_type": "code",
   "execution_count": 1,
   "metadata": {
    "executionInfo": {
     "elapsed": 2103,
     "status": "ok",
     "timestamp": 1688339527329,
     "user": {
      "displayName": "Bruno Grillo",
      "userId": "06570455025494243268"
     },
     "user_tz": 180
    },
    "id": "rJsJK3GrOO5l"
   },
   "outputs": [],
   "source": [
    "import pandas as pd\n",
    "import numpy as np\n",
    "import matplotlib.pyplot as plt\n",
    "import seaborn as sns\n",
    "import plotly.express as px"
   ]
  },
  {
   "cell_type": "code",
   "execution_count": 3,
   "metadata": {
    "executionInfo": {
     "elapsed": 740,
     "status": "ok",
     "timestamp": 1688339529174,
     "user": {
      "displayName": "Bruno Grillo",
      "userId": "06570455025494243268"
     },
     "user_tz": 180
    },
    "id": "7u2oTrbXOlQM"
   },
   "outputs": [],
   "source": [
    "df = pd.read_csv('RJ-2022.csv')"
   ]
  },
  {
   "cell_type": "markdown",
   "metadata": {
    "id": "ibI4dZ_rPCpc"
   },
   "source": [
    "#***Exploratory data analysis***"
   ]
  },
  {
   "cell_type": "code",
   "execution_count": 6,
   "metadata": {
    "colab": {
     "base_uri": "https://localhost:8080/",
     "height": 600
    },
    "executionInfo": {
     "elapsed": 261,
     "status": "ok",
     "timestamp": 1688318979249,
     "user": {
      "displayName": "Bruno Grillo",
      "userId": "06570455025494243268"
     },
     "user_tz": 180
    },
    "id": "0qf0pn4LPNi5",
    "outputId": "b4121112-85ae-4165-a96d-aef96c3dbfea",
    "scrolled": true
   },
   "outputs": [
    {
     "data": {
      "text/html": [
       "<div>\n",
       "<style scoped>\n",
       "    .dataframe tbody tr th:only-of-type {\n",
       "        vertical-align: middle;\n",
       "    }\n",
       "\n",
       "    .dataframe tbody tr th {\n",
       "        vertical-align: top;\n",
       "    }\n",
       "\n",
       "    .dataframe thead th {\n",
       "        text-align: right;\n",
       "    }\n",
       "</style>\n",
       "<table border=\"1\" class=\"dataframe\">\n",
       "  <thead>\n",
       "    <tr style=\"text-align: right;\">\n",
       "      <th></th>\n",
       "      <th>id</th>\n",
       "      <th>name</th>\n",
       "      <th>host_id</th>\n",
       "      <th>host_name</th>\n",
       "      <th>neighbourhood_group</th>\n",
       "      <th>neighbourhood</th>\n",
       "      <th>latitude</th>\n",
       "      <th>longitude</th>\n",
       "      <th>room_type</th>\n",
       "      <th>price</th>\n",
       "      <th>minimum_nights</th>\n",
       "      <th>number_of_reviews</th>\n",
       "      <th>last_review</th>\n",
       "      <th>reviews_per_month</th>\n",
       "      <th>calculated_host_listings_count</th>\n",
       "      <th>availability_365</th>\n",
       "      <th>number_of_reviews_ltm</th>\n",
       "      <th>license</th>\n",
       "    </tr>\n",
       "  </thead>\n",
       "  <tbody>\n",
       "    <tr>\n",
       "      <th>0</th>\n",
       "      <td>17878</td>\n",
       "      <td>Very Nice 2Br in Copacabana w. balcony, fast WiFi</td>\n",
       "      <td>68997</td>\n",
       "      <td>Matthias</td>\n",
       "      <td>NaN</td>\n",
       "      <td>Copacabana</td>\n",
       "      <td>-22.96599</td>\n",
       "      <td>-43.17940</td>\n",
       "      <td>Entire home/apt</td>\n",
       "      <td>350</td>\n",
       "      <td>5</td>\n",
       "      <td>288</td>\n",
       "      <td>2023-03-01</td>\n",
       "      <td>1.86</td>\n",
       "      <td>1</td>\n",
       "      <td>264</td>\n",
       "      <td>19</td>\n",
       "      <td>NaN</td>\n",
       "    </tr>\n",
       "    <tr>\n",
       "      <th>1</th>\n",
       "      <td>24480</td>\n",
       "      <td>Nice and cozy near Ipanema Beach, w/ home office</td>\n",
       "      <td>99249</td>\n",
       "      <td>Goya</td>\n",
       "      <td>NaN</td>\n",
       "      <td>Ipanema</td>\n",
       "      <td>-22.98405</td>\n",
       "      <td>-43.20189</td>\n",
       "      <td>Entire home/apt</td>\n",
       "      <td>624</td>\n",
       "      <td>3</td>\n",
       "      <td>86</td>\n",
       "      <td>2023-03-27</td>\n",
       "      <td>0.56</td>\n",
       "      <td>3</td>\n",
       "      <td>357</td>\n",
       "      <td>1</td>\n",
       "      <td>NaN</td>\n",
       "    </tr>\n",
       "    <tr>\n",
       "      <th>2</th>\n",
       "      <td>200568</td>\n",
       "      <td>30m of Ipa Beach e fins de semana special price !</td>\n",
       "      <td>980805</td>\n",
       "      <td>Henrique</td>\n",
       "      <td>NaN</td>\n",
       "      <td>Ipanema</td>\n",
       "      <td>-22.98586</td>\n",
       "      <td>-43.19411</td>\n",
       "      <td>Entire home/apt</td>\n",
       "      <td>100</td>\n",
       "      <td>30</td>\n",
       "      <td>198</td>\n",
       "      <td>2023-02-13</td>\n",
       "      <td>1.45</td>\n",
       "      <td>6</td>\n",
       "      <td>59</td>\n",
       "      <td>9</td>\n",
       "      <td>NaN</td>\n",
       "    </tr>\n",
       "    <tr>\n",
       "      <th>3</th>\n",
       "      <td>342874</td>\n",
       "      <td>Comfortable in Copacabana beach</td>\n",
       "      <td>829630</td>\n",
       "      <td>Luciana</td>\n",
       "      <td>NaN</td>\n",
       "      <td>Leme</td>\n",
       "      <td>-22.96392</td>\n",
       "      <td>-43.17263</td>\n",
       "      <td>Entire home/apt</td>\n",
       "      <td>236</td>\n",
       "      <td>2</td>\n",
       "      <td>159</td>\n",
       "      <td>2023-02-26</td>\n",
       "      <td>1.19</td>\n",
       "      <td>3</td>\n",
       "      <td>105</td>\n",
       "      <td>31</td>\n",
       "      <td>NaN</td>\n",
       "    </tr>\n",
       "    <tr>\n",
       "      <th>4</th>\n",
       "      <td>25026</td>\n",
       "      <td>Beautiful Modern Decorated Studio in Copa</td>\n",
       "      <td>102840</td>\n",
       "      <td>Viviane</td>\n",
       "      <td>NaN</td>\n",
       "      <td>Copacabana</td>\n",
       "      <td>-22.97735</td>\n",
       "      <td>-43.19105</td>\n",
       "      <td>Entire home/apt</td>\n",
       "      <td>307</td>\n",
       "      <td>3</td>\n",
       "      <td>262</td>\n",
       "      <td>2023-03-27</td>\n",
       "      <td>1.68</td>\n",
       "      <td>1</td>\n",
       "      <td>257</td>\n",
       "      <td>14</td>\n",
       "      <td>NaN</td>\n",
       "    </tr>\n",
       "  </tbody>\n",
       "</table>\n",
       "</div>"
      ],
      "text/plain": [
       "       id                                               name  host_id  \\\n",
       "0   17878  Very Nice 2Br in Copacabana w. balcony, fast WiFi    68997   \n",
       "1   24480   Nice and cozy near Ipanema Beach, w/ home office    99249   \n",
       "2  200568  30m of Ipa Beach e fins de semana special price !   980805   \n",
       "3  342874                    Comfortable in Copacabana beach   829630   \n",
       "4   25026          Beautiful Modern Decorated Studio in Copa   102840   \n",
       "\n",
       "  host_name  neighbourhood_group neighbourhood  latitude  longitude  \\\n",
       "0  Matthias                  NaN    Copacabana -22.96599  -43.17940   \n",
       "1      Goya                  NaN       Ipanema -22.98405  -43.20189   \n",
       "2  Henrique                  NaN       Ipanema -22.98586  -43.19411   \n",
       "3   Luciana                  NaN          Leme -22.96392  -43.17263   \n",
       "4   Viviane                  NaN    Copacabana -22.97735  -43.19105   \n",
       "\n",
       "         room_type  price  minimum_nights  number_of_reviews last_review  \\\n",
       "0  Entire home/apt    350               5                288  2023-03-01   \n",
       "1  Entire home/apt    624               3                 86  2023-03-27   \n",
       "2  Entire home/apt    100              30                198  2023-02-13   \n",
       "3  Entire home/apt    236               2                159  2023-02-26   \n",
       "4  Entire home/apt    307               3                262  2023-03-27   \n",
       "\n",
       "   reviews_per_month  calculated_host_listings_count  availability_365  \\\n",
       "0               1.86                               1               264   \n",
       "1               0.56                               3               357   \n",
       "2               1.45                               6                59   \n",
       "3               1.19                               3               105   \n",
       "4               1.68                               1               257   \n",
       "\n",
       "   number_of_reviews_ltm  license  \n",
       "0                     19      NaN  \n",
       "1                      1      NaN  \n",
       "2                      9      NaN  \n",
       "3                     31      NaN  \n",
       "4                     14      NaN  "
      ]
     },
     "execution_count": 6,
     "metadata": {},
     "output_type": "execute_result"
    }
   ],
   "source": [
    "df.head()"
   ]
  },
  {
   "cell_type": "code",
   "execution_count": 4,
   "metadata": {
    "colab": {
     "base_uri": "https://localhost:8080/"
    },
    "executionInfo": {
     "elapsed": 403,
     "status": "ok",
     "timestamp": 1688318980921,
     "user": {
      "displayName": "Bruno Grillo",
      "userId": "06570455025494243268"
     },
     "user_tz": 180
    },
    "id": "maqryOlyPQ7l",
    "outputId": "eaed4e7b-7e16-45da-da53-7cf118140a55"
   },
   "outputs": [
    {
     "name": "stdout",
     "output_type": "stream",
     "text": [
      "<class 'pandas.core.frame.DataFrame'>\n",
      "RangeIndex: 30476 entries, 0 to 30475\n",
      "Data columns (total 18 columns):\n",
      " #   Column                          Non-Null Count  Dtype  \n",
      "---  ------                          --------------  -----  \n",
      " 0   id                              30476 non-null  int64  \n",
      " 1   name                            30458 non-null  object \n",
      " 2   host_id                         30476 non-null  int64  \n",
      " 3   host_name                       30473 non-null  object \n",
      " 4   neighbourhood_group             0 non-null      float64\n",
      " 5   neighbourhood                   30476 non-null  object \n",
      " 6   latitude                        30476 non-null  float64\n",
      " 7   longitude                       30476 non-null  float64\n",
      " 8   room_type                       30476 non-null  object \n",
      " 9   price                           30476 non-null  int64  \n",
      " 10  minimum_nights                  30476 non-null  int64  \n",
      " 11  number_of_reviews               30476 non-null  int64  \n",
      " 12  last_review                     22972 non-null  object \n",
      " 13  reviews_per_month               22972 non-null  float64\n",
      " 14  calculated_host_listings_count  30476 non-null  int64  \n",
      " 15  availability_365                30476 non-null  int64  \n",
      " 16  number_of_reviews_ltm           30476 non-null  int64  \n",
      " 17  license                         0 non-null      float64\n",
      "dtypes: float64(5), int64(8), object(5)\n",
      "memory usage: 4.2+ MB\n"
     ]
    }
   ],
   "source": [
    "df.info()"
   ]
  },
  {
   "cell_type": "code",
   "execution_count": 28,
   "metadata": {
    "colab": {
     "base_uri": "https://localhost:8080/",
     "height": 344
    },
    "executionInfo": {
     "elapsed": 219,
     "status": "ok",
     "timestamp": 1688320571861,
     "user": {
      "displayName": "Bruno Grillo",
      "userId": "06570455025494243268"
     },
     "user_tz": 180
    },
    "id": "eS4pbbeftiMV",
    "outputId": "b23ff42a-7ad8-448f-95c7-6117e48ec997"
   },
   "outputs": [
    {
     "data": {
      "text/html": [
       "\n",
       "  <div id=\"df-c92bcfcb-eb86-48ad-bd6f-cf0240731e61\">\n",
       "    <div class=\"colab-df-container\">\n",
       "      <div>\n",
       "<style scoped>\n",
       "    .dataframe tbody tr th:only-of-type {\n",
       "        vertical-align: middle;\n",
       "    }\n",
       "\n",
       "    .dataframe tbody tr th {\n",
       "        vertical-align: top;\n",
       "    }\n",
       "\n",
       "    .dataframe thead th {\n",
       "        text-align: right;\n",
       "    }\n",
       "</style>\n",
       "<table border=\"1\" class=\"dataframe\">\n",
       "  <thead>\n",
       "    <tr style=\"text-align: right;\">\n",
       "      <th></th>\n",
       "      <th>id</th>\n",
       "      <th>host_id</th>\n",
       "      <th>latitude</th>\n",
       "      <th>longitude</th>\n",
       "      <th>price</th>\n",
       "      <th>minimum_nights</th>\n",
       "      <th>number_of_reviews</th>\n",
       "      <th>reviews_per_month</th>\n",
       "      <th>calculated_host_listings_count</th>\n",
       "      <th>availability_365</th>\n",
       "      <th>number_of_reviews_ltm</th>\n",
       "    </tr>\n",
       "  </thead>\n",
       "  <tbody>\n",
       "    <tr>\n",
       "      <th>count</th>\n",
       "      <td>3.045500e+04</td>\n",
       "      <td>3.045500e+04</td>\n",
       "      <td>30455.000000</td>\n",
       "      <td>30455.000000</td>\n",
       "      <td>30455.000000</td>\n",
       "      <td>30455.000000</td>\n",
       "      <td>30455.000000</td>\n",
       "      <td>22967.000000</td>\n",
       "      <td>30455.000000</td>\n",
       "      <td>30455.000000</td>\n",
       "      <td>30455.000000</td>\n",
       "    </tr>\n",
       "    <tr>\n",
       "      <th>mean</th>\n",
       "      <td>2.858026e+17</td>\n",
       "      <td>1.568552e+08</td>\n",
       "      <td>-22.967221</td>\n",
       "      <td>-43.250335</td>\n",
       "      <td>981.051880</td>\n",
       "      <td>4.853193</td>\n",
       "      <td>18.272468</td>\n",
       "      <td>1.014724</td>\n",
       "      <td>9.814086</td>\n",
       "      <td>210.380693</td>\n",
       "      <td>6.636283</td>\n",
       "    </tr>\n",
       "    <tr>\n",
       "      <th>std</th>\n",
       "      <td>3.618918e+17</td>\n",
       "      <td>1.608316e+08</td>\n",
       "      <td>0.035217</td>\n",
       "      <td>0.099716</td>\n",
       "      <td>8627.972592</td>\n",
       "      <td>24.361153</td>\n",
       "      <td>38.513135</td>\n",
       "      <td>1.082807</td>\n",
       "      <td>28.249500</td>\n",
       "      <td>136.073952</td>\n",
       "      <td>10.832516</td>\n",
       "    </tr>\n",
       "    <tr>\n",
       "      <th>min</th>\n",
       "      <td>1.787800e+04</td>\n",
       "      <td>3.607000e+03</td>\n",
       "      <td>-23.073276</td>\n",
       "      <td>-43.701286</td>\n",
       "      <td>0.000000</td>\n",
       "      <td>1.000000</td>\n",
       "      <td>0.000000</td>\n",
       "      <td>0.010000</td>\n",
       "      <td>1.000000</td>\n",
       "      <td>0.000000</td>\n",
       "      <td>0.000000</td>\n",
       "    </tr>\n",
       "    <tr>\n",
       "      <th>25%</th>\n",
       "      <td>1.867920e+07</td>\n",
       "      <td>2.083224e+07</td>\n",
       "      <td>-22.984780</td>\n",
       "      <td>-43.308558</td>\n",
       "      <td>200.000000</td>\n",
       "      <td>1.000000</td>\n",
       "      <td>1.000000</td>\n",
       "      <td>0.230000</td>\n",
       "      <td>1.000000</td>\n",
       "      <td>85.000000</td>\n",
       "      <td>0.000000</td>\n",
       "    </tr>\n",
       "    <tr>\n",
       "      <th>50%</th>\n",
       "      <td>4.814557e+07</td>\n",
       "      <td>8.378613e+07</td>\n",
       "      <td>-22.972630</td>\n",
       "      <td>-43.195520</td>\n",
       "      <td>350.000000</td>\n",
       "      <td>2.000000</td>\n",
       "      <td>4.000000</td>\n",
       "      <td>0.700000</td>\n",
       "      <td>2.000000</td>\n",
       "      <td>212.000000</td>\n",
       "      <td>2.000000</td>\n",
       "    </tr>\n",
       "    <tr>\n",
       "      <th>75%</th>\n",
       "      <td>7.053117e+17</td>\n",
       "      <td>2.773585e+08</td>\n",
       "      <td>-22.954765</td>\n",
       "      <td>-43.185842</td>\n",
       "      <td>650.000000</td>\n",
       "      <td>4.000000</td>\n",
       "      <td>17.000000</td>\n",
       "      <td>1.440000</td>\n",
       "      <td>4.000000</td>\n",
       "      <td>359.000000</td>\n",
       "      <td>8.000000</td>\n",
       "    </tr>\n",
       "    <tr>\n",
       "      <th>max</th>\n",
       "      <td>8.570784e+17</td>\n",
       "      <td>5.072126e+08</td>\n",
       "      <td>-22.749690</td>\n",
       "      <td>-43.104400</td>\n",
       "      <td>595793.000000</td>\n",
       "      <td>1125.000000</td>\n",
       "      <td>588.000000</td>\n",
       "      <td>17.010000</td>\n",
       "      <td>224.000000</td>\n",
       "      <td>365.000000</td>\n",
       "      <td>146.000000</td>\n",
       "    </tr>\n",
       "  </tbody>\n",
       "</table>\n",
       "</div>\n",
       "      <button class=\"colab-df-convert\" onclick=\"convertToInteractive('df-c92bcfcb-eb86-48ad-bd6f-cf0240731e61')\"\n",
       "              title=\"Convert this dataframe to an interactive table.\"\n",
       "              style=\"display:none;\">\n",
       "        \n",
       "  <svg xmlns=\"http://www.w3.org/2000/svg\" height=\"24px\"viewBox=\"0 0 24 24\"\n",
       "       width=\"24px\">\n",
       "    <path d=\"M0 0h24v24H0V0z\" fill=\"none\"/>\n",
       "    <path d=\"M18.56 5.44l.94 2.06.94-2.06 2.06-.94-2.06-.94-.94-2.06-.94 2.06-2.06.94zm-11 1L8.5 8.5l.94-2.06 2.06-.94-2.06-.94L8.5 2.5l-.94 2.06-2.06.94zm10 10l.94 2.06.94-2.06 2.06-.94-2.06-.94-.94-2.06-.94 2.06-2.06.94z\"/><path d=\"M17.41 7.96l-1.37-1.37c-.4-.4-.92-.59-1.43-.59-.52 0-1.04.2-1.43.59L10.3 9.45l-7.72 7.72c-.78.78-.78 2.05 0 2.83L4 21.41c.39.39.9.59 1.41.59.51 0 1.02-.2 1.41-.59l7.78-7.78 2.81-2.81c.8-.78.8-2.07 0-2.86zM5.41 20L4 18.59l7.72-7.72 1.47 1.35L5.41 20z\"/>\n",
       "  </svg>\n",
       "      </button>\n",
       "      \n",
       "  <style>\n",
       "    .colab-df-container {\n",
       "      display:flex;\n",
       "      flex-wrap:wrap;\n",
       "      gap: 12px;\n",
       "    }\n",
       "\n",
       "    .colab-df-convert {\n",
       "      background-color: #E8F0FE;\n",
       "      border: none;\n",
       "      border-radius: 50%;\n",
       "      cursor: pointer;\n",
       "      display: none;\n",
       "      fill: #1967D2;\n",
       "      height: 32px;\n",
       "      padding: 0 0 0 0;\n",
       "      width: 32px;\n",
       "    }\n",
       "\n",
       "    .colab-df-convert:hover {\n",
       "      background-color: #E2EBFA;\n",
       "      box-shadow: 0px 1px 2px rgba(60, 64, 67, 0.3), 0px 1px 3px 1px rgba(60, 64, 67, 0.15);\n",
       "      fill: #174EA6;\n",
       "    }\n",
       "\n",
       "    [theme=dark] .colab-df-convert {\n",
       "      background-color: #3B4455;\n",
       "      fill: #D2E3FC;\n",
       "    }\n",
       "\n",
       "    [theme=dark] .colab-df-convert:hover {\n",
       "      background-color: #434B5C;\n",
       "      box-shadow: 0px 1px 3px 1px rgba(0, 0, 0, 0.15);\n",
       "      filter: drop-shadow(0px 1px 2px rgba(0, 0, 0, 0.3));\n",
       "      fill: #FFFFFF;\n",
       "    }\n",
       "  </style>\n",
       "\n",
       "      <script>\n",
       "        const buttonEl =\n",
       "          document.querySelector('#df-c92bcfcb-eb86-48ad-bd6f-cf0240731e61 button.colab-df-convert');\n",
       "        buttonEl.style.display =\n",
       "          google.colab.kernel.accessAllowed ? 'block' : 'none';\n",
       "\n",
       "        async function convertToInteractive(key) {\n",
       "          const element = document.querySelector('#df-c92bcfcb-eb86-48ad-bd6f-cf0240731e61');\n",
       "          const dataTable =\n",
       "            await google.colab.kernel.invokeFunction('convertToInteractive',\n",
       "                                                     [key], {});\n",
       "          if (!dataTable) return;\n",
       "\n",
       "          const docLinkHtml = 'Like what you see? Visit the ' +\n",
       "            '<a target=\"_blank\" href=https://colab.research.google.com/notebooks/data_table.ipynb>data table notebook</a>'\n",
       "            + ' to learn more about interactive tables.';\n",
       "          element.innerHTML = '';\n",
       "          dataTable['output_type'] = 'display_data';\n",
       "          await google.colab.output.renderOutput(dataTable, element);\n",
       "          const docLink = document.createElement('div');\n",
       "          docLink.innerHTML = docLinkHtml;\n",
       "          element.appendChild(docLink);\n",
       "        }\n",
       "      </script>\n",
       "    </div>\n",
       "  </div>\n",
       "  "
      ],
      "text/plain": [
       "                 id       host_id      latitude     longitude          price  \\\n",
       "count  3.045500e+04  3.045500e+04  30455.000000  30455.000000   30455.000000   \n",
       "mean   2.858026e+17  1.568552e+08    -22.967221    -43.250335     981.051880   \n",
       "std    3.618918e+17  1.608316e+08      0.035217      0.099716    8627.972592   \n",
       "min    1.787800e+04  3.607000e+03    -23.073276    -43.701286       0.000000   \n",
       "25%    1.867920e+07  2.083224e+07    -22.984780    -43.308558     200.000000   \n",
       "50%    4.814557e+07  8.378613e+07    -22.972630    -43.195520     350.000000   \n",
       "75%    7.053117e+17  2.773585e+08    -22.954765    -43.185842     650.000000   \n",
       "max    8.570784e+17  5.072126e+08    -22.749690    -43.104400  595793.000000   \n",
       "\n",
       "       minimum_nights  number_of_reviews  reviews_per_month  \\\n",
       "count    30455.000000       30455.000000       22967.000000   \n",
       "mean         4.853193          18.272468           1.014724   \n",
       "std         24.361153          38.513135           1.082807   \n",
       "min          1.000000           0.000000           0.010000   \n",
       "25%          1.000000           1.000000           0.230000   \n",
       "50%          2.000000           4.000000           0.700000   \n",
       "75%          4.000000          17.000000           1.440000   \n",
       "max       1125.000000         588.000000          17.010000   \n",
       "\n",
       "       calculated_host_listings_count  availability_365  number_of_reviews_ltm  \n",
       "count                    30455.000000      30455.000000           30455.000000  \n",
       "mean                         9.814086        210.380693               6.636283  \n",
       "std                         28.249500        136.073952              10.832516  \n",
       "min                          1.000000          0.000000               0.000000  \n",
       "25%                          1.000000         85.000000               0.000000  \n",
       "50%                          2.000000        212.000000               2.000000  \n",
       "75%                          4.000000        359.000000               8.000000  \n",
       "max                        224.000000        365.000000             146.000000  "
      ]
     },
     "execution_count": 28,
     "metadata": {},
     "output_type": "execute_result"
    }
   ],
   "source": [
    "df.describe()"
   ]
  },
  {
   "cell_type": "markdown",
   "metadata": {
    "id": "EkpxLKIeAyiX"
   },
   "source": [
    "***Some adjustments***"
   ]
  },
  {
   "cell_type": "code",
   "execution_count": 4,
   "metadata": {
    "executionInfo": {
     "elapsed": 257,
     "status": "ok",
     "timestamp": 1688339545049,
     "user": {
      "displayName": "Bruno Grillo",
      "userId": "06570455025494243268"
     },
     "user_tz": 180
    },
    "id": "mdca3H0YPfE9"
   },
   "outputs": [],
   "source": [
    "df.drop(['neighbourhood_group', 'license'], axis=1, inplace=True) #Drop empty columns\n",
    "df.dropna(subset=['name', 'host_name'], inplace=True) #Drop rows with empty values in ['name', 'host_name'] columns\n",
    "df.drop(df[df['price'] >= 5000].index, inplace=True) # Removing outliers"
   ]
  },
  {
   "cell_type": "markdown",
   "metadata": {
    "id": "yQ9ZYio-BHIW"
   },
   "source": [
    "***Analysing neighbourhoods***"
   ]
  },
  {
   "cell_type": "code",
   "execution_count": 5,
   "metadata": {
    "executionInfo": {
     "elapsed": 6,
     "status": "ok",
     "timestamp": 1688339547484,
     "user": {
      "displayName": "Bruno Grillo",
      "userId": "06570455025494243268"
     },
     "user_tz": 180
    },
    "id": "fWMk2gJq5TXt"
   },
   "outputs": [],
   "source": [
    "toppriceHoods = df.groupby('neighbourhood').price.mean().reset_index().sort_values('price', ascending=False).head() # Df with the top priced neighbourhoods\n",
    "lowerpriceHoods = df.groupby('neighbourhood').price.mean().reset_index().sort_values('price').head() # Df with the top priced neighbourhoods"
   ]
  },
  {
   "cell_type": "code",
   "execution_count": 185,
   "metadata": {
    "colab": {
     "base_uri": "https://localhost:8080/",
     "height": 602
    },
    "executionInfo": {
     "elapsed": 919,
     "status": "ok",
     "timestamp": 1688328130661,
     "user": {
      "displayName": "Bruno Grillo",
      "userId": "06570455025494243268"
     },
     "user_tz": 180
    },
    "id": "Bu6bUG9tyqF8",
    "outputId": "e4a1a195-a496-407c-891f-e6dd11198d5f"
   },
   "outputs": [
    {
     "data": {
      "image/png": "[encoded data removed]",
      "text/plain": [
       "<Figure size 1800x600 with 2 Axes>"
      ]
     },
     "metadata": {},
     "output_type": "display_data"
    }
   ],
   "source": [
    "fig, (ax1, ax2) = plt.subplots(1, 2, figsize=(18, 6))\n",
    "sns.barplot(data=toppriceHoods, y='price', x='neighbourhood', color='#1DB954', ax=ax1)\n",
    "ax1.set_title('Expensive Neighborhoods', fontweight='bold')\n",
    "ax1.set_xlabel('Neighbourhood')\n",
    "ax1.set_ylabel('Price')\n",
    "sns.barplot(data=lowerpriceHoods, y='price', x='neighbourhood', color='#1DB954', ax=ax2)\n",
    "ax2.set_title('Cheap Neighborhoods', fontweight='bold')\n",
    "ax2.set_xlabel('Neighbourhood')\n",
    "ax2.set_ylabel('Price')\n",
    "ax2.set_ylim(0, 200)\n",
    "\n",
    "for p in ax1.patches:\n",
    "    ax1.annotate(format(p.get_height(), '.2f'), (p.get_x() + p.get_width() / 2., p.get_height()), ha = 'center', va = 'center', xytext = (0, 5), textcoords = 'offset points')\n",
    "\n",
    "for p in ax2.patches:\n",
    "    ax2.annotate(format(p.get_height(), '.2f'), (p.get_x() + p.get_width() / 2., p.get_height()), ha = 'center', va = 'center', xytext = (0, 5), textcoords = 'offset points')\n",
    "\n",
    "fig.suptitle('Average price by neighbourhood', fontweight='bold')\n",
    "plt.show()"
   ]
  },
  {
   "cell_type": "code",
   "execution_count": 186,
   "metadata": {
    "colab": {
     "base_uri": "https://localhost:8080/",
     "height": 641
    },
    "executionInfo": {
     "elapsed": 835,
     "status": "ok",
     "timestamp": 1688328321180,
     "user": {
      "displayName": "Bruno Grillo",
      "userId": "06570455025494243268"
     },
     "user_tz": 180
    },
    "id": "GaXOI9dcuOVe",
    "outputId": "eee06ab7-68df-4bc6-b6a9-06b0318dee2e"
   },
   "outputs": [
    {
     "data": {
      "image/png": "[encoded data removed]",
      "text/plain": [
       "<Figure size 1000x700 with 1 Axes>"
      ]
     },
     "metadata": {},
     "output_type": "display_data"
    }
   ],
   "source": [
    "plt.figure(figsize=(10,7))\n",
    "sns.countplot(data=df, y='neighbourhood', color='#1DB954',\n",
    "              order=df['neighbourhood'].value_counts().index[:10])\n",
    "\n",
    "plt.title('Neighbourhoods with most rooms', fontweight='bold')\n",
    "plt.xlabel('Rooms')\n",
    "plt.ylabel('Neighbourhood')\n",
    "\n",
    "for i, count in enumerate(df['neighbourhood'].value_counts().values[:10]):\n",
    "  plt.annotate(str(count), xy=(count / 2, i), ha='center', va='center')\n",
    "\n",
    "fig.show()"
   ]
  },
  {
   "cell_type": "code",
   "execution_count": 11,
   "metadata": {
    "executionInfo": {
     "elapsed": 260,
     "status": "ok",
     "timestamp": 1688339750182,
     "user": {
      "displayName": "Bruno Grillo",
      "userId": "06570455025494243268"
     },
     "user_tz": 180
    },
    "id": "L9CLa_gCNbLg"
   },
   "outputs": [],
   "source": []
  },
  {
   "cell_type": "code",
   "execution_count": null,
   "metadata": {
    "id": "es5W-5T_4RUM"
   },
   "outputs": [],
   "source": []
  }
 ],
 "metadata": {
  "colab": {
   "authorship_tag": "ABX9TyMPkwwy1DAtB2Y36RKsOVAl",
   "mount_file_id": "17Swh_dNoL34iLBmTqjwDEVsfYuz7xd9L",
   "provenance": []
  },
  "kernelspec": {
   "display_name": "Python 3 (ipykernel)",
   "language": "python",
   "name": "python3"
  },
  "language_info": {
   "codemirror_mode": {
    "name": "ipython",
    "version": 3
   },
   "file_extension": ".py",
   "mimetype": "text/x-python",
   "name": "python",
   "nbconvert_exporter": "python",
   "pygments_lexer": "ipython3",
   "version": "3.9.13"
  }
 },
 "nbformat": 4,
 "nbformat_minor": 1
}
